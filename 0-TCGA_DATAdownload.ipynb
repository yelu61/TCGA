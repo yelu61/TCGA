{
 "cells": [
  {
   "cell_type": "markdown",
   "metadata": {
    "vscode": {
     "languageId": "r"
    }
   },
   "source": [
    "# ***TCGA数据挖掘***\n",
    "----\n",
    "> **数据下载**"
   ]
  },
  {
   "cell_type": "code",
   "execution_count": 1,
   "metadata": {
    "vscode": {
     "languageId": "r"
    }
   },
   "outputs": [
    {
     "data": {
      "text/html": [
       "'/mnt/Data/Project/TCGA'"
      ],
      "text/latex": [
       "'/mnt/Data/Project/TCGA'"
      ],
      "text/markdown": [
       "'/mnt/Data/Project/TCGA'"
      ],
      "text/plain": [
       "[1] \"/mnt/Data/Project/TCGA\""
      ]
     },
     "metadata": {},
     "output_type": "display_data"
    }
   ],
   "source": [
    "rm(list = ls())\n",
    "options(stringsAsFactors = FALSE)\n",
    "getwd()"
   ]
  },
  {
   "cell_type": "code",
   "execution_count": 3,
   "metadata": {
    "vscode": {
     "languageId": "r"
    }
   },
   "outputs": [],
   "source": [
    "### Load packages\n",
    "library(dplyr)\n",
    "library(tidyverse)\n",
    "library(stringr)\n",
    "library(data.table)\n",
    "library(vroom) # vroom可以快速读取tsv文件\n",
    "library(jsonlite) # 读取metadata文件"
   ]
  },
  {
   "cell_type": "markdown",
   "metadata": {},
   "source": [
    "## **Data download**"
   ]
  },
  {
   "cell_type": "code",
   "execution_count": 4,
   "metadata": {
    "vscode": {
     "languageId": "r"
    }
   },
   "outputs": [],
   "source": [
    "########==== 应用R包TCGAbiolinks下载和读取TCGA数据 ====########\n",
    "## 使用TCGAbiolinks处理数据，常规需要3步走，分别是检索、下载和读取数据，依次对应以下3个函数 GDCquery()、GDCdownload() 和 GDCprepare() 。\n",
    "#if (!requireNamespace(\"BiocManager\", quietly=TRUE))\n",
    "#  install.packages(\"BiocManager\")\n",
    "# BiocManager::install(\"TCGAbiolinks\", force = TRUE) # 若未安装最新的版本，请选中运行上行代码\n",
    "library(TCGAbiolinks)"
   ]
  },
  {
   "cell_type": "code",
   "execution_count": 5,
   "metadata": {
    "vscode": {
     "languageId": "r"
    }
   },
   "outputs": [
    {
     "data": {
      "text/plain": [
       "[1] ‘2.30.4’"
      ]
     },
     "metadata": {},
     "output_type": "display_data"
    }
   ],
   "source": [
    "packageVersion(\"TCGAbiolinks\")"
   ]
  },
  {
   "cell_type": "code",
   "execution_count": 6,
   "metadata": {
    "vscode": {
     "languageId": "r"
    }
   },
   "outputs": [],
   "source": [
    "# 获取全部的TCGA项目信息\n",
    "AllProj <- getGDCprojects() "
   ]
  },
  {
   "cell_type": "code",
   "execution_count": 7,
   "metadata": {
    "vscode": {
     "languageId": "r"
    }
   },
   "outputs": [
    {
     "data": {
      "text/html": [
       "86"
      ],
      "text/latex": [
       "86"
      ],
      "text/markdown": [
       "86"
      ],
      "text/plain": [
       "[1] 86"
      ]
     },
     "metadata": {},
     "output_type": "display_data"
    }
   ],
   "source": [
    "TCGAbiolinks:::getGDCprojects()$project_id %>% length()"
   ]
  },
  {
   "cell_type": "code",
   "execution_count": 9,
   "metadata": {
    "vscode": {
     "languageId": "r"
    }
   },
   "outputs": [],
   "source": [
    "projects = TCGAbiolinks:::getGDCprojects()$project_id"
   ]
  },
  {
   "cell_type": "code",
   "execution_count": 10,
   "metadata": {
    "vscode": {
     "languageId": "r"
    }
   },
   "outputs": [
    {
     "data": {
      "text/html": [
       "<style>\n",
       ".list-inline {list-style: none; margin:0; padding: 0}\n",
       ".list-inline>li {display: inline-block}\n",
       ".list-inline>li:not(:last-child)::after {content: \"\\00b7\"; padding: 0 .5ex}\n",
       "</style>\n",
       "<ol class=list-inline><li>'TARGET-AML'</li><li>'MATCH-Z1I'</li><li>'HCMI-CMDC'</li><li>'MATCH-W'</li><li>'MATCH-Z1D'</li><li>'MATCH-Z1A'</li><li>'MATCH-U'</li><li>'MATCH-Q'</li><li>'TCGA-PCPG'</li><li>'MATCH-H'</li><li>'MATCH-C1'</li><li>'TCGA-THYM'</li><li>'MATCH-I'</li><li>'MATCH-S1'</li><li>'MATCH-P'</li><li>'MATCH-R'</li><li>'MATCH-Z1B'</li><li>'TCGA-PAAD'</li><li>'TCGA-STAD'</li><li>'TCGA-TGCT'</li><li>'MATCH-S2'</li><li>'TCGA-SARC'</li><li>'TCGA-PRAD'</li><li>'TCGA-READ'</li><li>'TCGA-UCS'</li><li>'TCGA-UVM'</li><li>'TRIO-CRU'</li><li>'VAREPOP-APOLLO'</li><li>'WCDT-MCRPC'</li><li>'TARGET-ALL-P1'</li><li>'REBC-THYR'</li><li>'TARGET-ALL-P2'</li><li>'TARGET-ALL-P3'</li><li>'ORGANOID-PANCREATIC'</li><li>'CTSP-DLBCL1'</li><li>'EXCEPTIONAL_RESPONDERS-ER'</li><li>'NCICCR-DLBCL'</li><li>'MP2PRT-ALL'</li><li>'MP2PRT-WT'</li><li>'OHSU-CNL'</li><li>'TCGA-KICH'</li><li>'TCGA-HNSC'</li><li>'TCGA-LUAD'</li><li>'TCGA-LIHC'</li><li>'TCGA-LUSC'</li><li>'TCGA-MESO'</li><li>'TCGA-LAML'</li><li>'TCGA-LGG'</li><li>'TCGA-KIRP'</li><li>'TCGA-KIRC'</li><li>'BEATAML1.0-COHORT'</li><li>'CGCI-BLGSP'</li><li>'CGCI-HTMCP-CC'</li><li>'APOLLO-LUAD'</li><li>'CMI-ASC'</li><li>'CDDP_EAGLE-1'</li><li>'CMI-MBC'</li><li>'CGCI-HTMCP-DLBCL'</li><li>'CMI-MPC'</li><li>'BEATAML1.0-CRENOLANIB'</li><li>'CGCI-HTMCP-LC'</li><li>'TCGA-ACC'</li><li>'TARGET-NBL'</li><li>'TARGET-WT'</li><li>'TCGA-BLCA'</li><li>'TARGET-OS'</li><li>'TARGET-RT'</li><li>'FM-AD'</li><li>'TCGA-DLBC'</li><li>'TCGA-CHOL'</li><li>'TCGA-CESC'</li><li>'TCGA-COAD'</li><li>'CPTAC-3'</li><li>'TCGA-BRCA'</li><li>'TCGA-ESCA'</li><li>'TCGA-GBM'</li><li>'TARGET-CCSK'</li><li>'CPTAC-2'</li><li>'MMRF-COMMPASS'</li><li>'TCGA-OV'</li><li>'TCGA-THCA'</li><li>'MATCH-N'</li><li>'MATCH-B'</li><li>'MATCH-Y'</li><li>'TCGA-SKCM'</li><li>'TCGA-UCEC'</li></ol>\n"
      ],
      "text/latex": [
       "\\begin{enumerate*}\n",
       "\\item 'TARGET-AML'\n",
       "\\item 'MATCH-Z1I'\n",
       "\\item 'HCMI-CMDC'\n",
       "\\item 'MATCH-W'\n",
       "\\item 'MATCH-Z1D'\n",
       "\\item 'MATCH-Z1A'\n",
       "\\item 'MATCH-U'\n",
       "\\item 'MATCH-Q'\n",
       "\\item 'TCGA-PCPG'\n",
       "\\item 'MATCH-H'\n",
       "\\item 'MATCH-C1'\n",
       "\\item 'TCGA-THYM'\n",
       "\\item 'MATCH-I'\n",
       "\\item 'MATCH-S1'\n",
       "\\item 'MATCH-P'\n",
       "\\item 'MATCH-R'\n",
       "\\item 'MATCH-Z1B'\n",
       "\\item 'TCGA-PAAD'\n",
       "\\item 'TCGA-STAD'\n",
       "\\item 'TCGA-TGCT'\n",
       "\\item 'MATCH-S2'\n",
       "\\item 'TCGA-SARC'\n",
       "\\item 'TCGA-PRAD'\n",
       "\\item 'TCGA-READ'\n",
       "\\item 'TCGA-UCS'\n",
       "\\item 'TCGA-UVM'\n",
       "\\item 'TRIO-CRU'\n",
       "\\item 'VAREPOP-APOLLO'\n",
       "\\item 'WCDT-MCRPC'\n",
       "\\item 'TARGET-ALL-P1'\n",
       "\\item 'REBC-THYR'\n",
       "\\item 'TARGET-ALL-P2'\n",
       "\\item 'TARGET-ALL-P3'\n",
       "\\item 'ORGANOID-PANCREATIC'\n",
       "\\item 'CTSP-DLBCL1'\n",
       "\\item 'EXCEPTIONAL\\_RESPONDERS-ER'\n",
       "\\item 'NCICCR-DLBCL'\n",
       "\\item 'MP2PRT-ALL'\n",
       "\\item 'MP2PRT-WT'\n",
       "\\item 'OHSU-CNL'\n",
       "\\item 'TCGA-KICH'\n",
       "\\item 'TCGA-HNSC'\n",
       "\\item 'TCGA-LUAD'\n",
       "\\item 'TCGA-LIHC'\n",
       "\\item 'TCGA-LUSC'\n",
       "\\item 'TCGA-MESO'\n",
       "\\item 'TCGA-LAML'\n",
       "\\item 'TCGA-LGG'\n",
       "\\item 'TCGA-KIRP'\n",
       "\\item 'TCGA-KIRC'\n",
       "\\item 'BEATAML1.0-COHORT'\n",
       "\\item 'CGCI-BLGSP'\n",
       "\\item 'CGCI-HTMCP-CC'\n",
       "\\item 'APOLLO-LUAD'\n",
       "\\item 'CMI-ASC'\n",
       "\\item 'CDDP\\_EAGLE-1'\n",
       "\\item 'CMI-MBC'\n",
       "\\item 'CGCI-HTMCP-DLBCL'\n",
       "\\item 'CMI-MPC'\n",
       "\\item 'BEATAML1.0-CRENOLANIB'\n",
       "\\item 'CGCI-HTMCP-LC'\n",
       "\\item 'TCGA-ACC'\n",
       "\\item 'TARGET-NBL'\n",
       "\\item 'TARGET-WT'\n",
       "\\item 'TCGA-BLCA'\n",
       "\\item 'TARGET-OS'\n",
       "\\item 'TARGET-RT'\n",
       "\\item 'FM-AD'\n",
       "\\item 'TCGA-DLBC'\n",
       "\\item 'TCGA-CHOL'\n",
       "\\item 'TCGA-CESC'\n",
       "\\item 'TCGA-COAD'\n",
       "\\item 'CPTAC-3'\n",
       "\\item 'TCGA-BRCA'\n",
       "\\item 'TCGA-ESCA'\n",
       "\\item 'TCGA-GBM'\n",
       "\\item 'TARGET-CCSK'\n",
       "\\item 'CPTAC-2'\n",
       "\\item 'MMRF-COMMPASS'\n",
       "\\item 'TCGA-OV'\n",
       "\\item 'TCGA-THCA'\n",
       "\\item 'MATCH-N'\n",
       "\\item 'MATCH-B'\n",
       "\\item 'MATCH-Y'\n",
       "\\item 'TCGA-SKCM'\n",
       "\\item 'TCGA-UCEC'\n",
       "\\end{enumerate*}\n"
      ],
      "text/markdown": [
       "1. 'TARGET-AML'\n",
       "2. 'MATCH-Z1I'\n",
       "3. 'HCMI-CMDC'\n",
       "4. 'MATCH-W'\n",
       "5. 'MATCH-Z1D'\n",
       "6. 'MATCH-Z1A'\n",
       "7. 'MATCH-U'\n",
       "8. 'MATCH-Q'\n",
       "9. 'TCGA-PCPG'\n",
       "10. 'MATCH-H'\n",
       "11. 'MATCH-C1'\n",
       "12. 'TCGA-THYM'\n",
       "13. 'MATCH-I'\n",
       "14. 'MATCH-S1'\n",
       "15. 'MATCH-P'\n",
       "16. 'MATCH-R'\n",
       "17. 'MATCH-Z1B'\n",
       "18. 'TCGA-PAAD'\n",
       "19. 'TCGA-STAD'\n",
       "20. 'TCGA-TGCT'\n",
       "21. 'MATCH-S2'\n",
       "22. 'TCGA-SARC'\n",
       "23. 'TCGA-PRAD'\n",
       "24. 'TCGA-READ'\n",
       "25. 'TCGA-UCS'\n",
       "26. 'TCGA-UVM'\n",
       "27. 'TRIO-CRU'\n",
       "28. 'VAREPOP-APOLLO'\n",
       "29. 'WCDT-MCRPC'\n",
       "30. 'TARGET-ALL-P1'\n",
       "31. 'REBC-THYR'\n",
       "32. 'TARGET-ALL-P2'\n",
       "33. 'TARGET-ALL-P3'\n",
       "34. 'ORGANOID-PANCREATIC'\n",
       "35. 'CTSP-DLBCL1'\n",
       "36. 'EXCEPTIONAL_RESPONDERS-ER'\n",
       "37. 'NCICCR-DLBCL'\n",
       "38. 'MP2PRT-ALL'\n",
       "39. 'MP2PRT-WT'\n",
       "40. 'OHSU-CNL'\n",
       "41. 'TCGA-KICH'\n",
       "42. 'TCGA-HNSC'\n",
       "43. 'TCGA-LUAD'\n",
       "44. 'TCGA-LIHC'\n",
       "45. 'TCGA-LUSC'\n",
       "46. 'TCGA-MESO'\n",
       "47. 'TCGA-LAML'\n",
       "48. 'TCGA-LGG'\n",
       "49. 'TCGA-KIRP'\n",
       "50. 'TCGA-KIRC'\n",
       "51. 'BEATAML1.0-COHORT'\n",
       "52. 'CGCI-BLGSP'\n",
       "53. 'CGCI-HTMCP-CC'\n",
       "54. 'APOLLO-LUAD'\n",
       "55. 'CMI-ASC'\n",
       "56. 'CDDP_EAGLE-1'\n",
       "57. 'CMI-MBC'\n",
       "58. 'CGCI-HTMCP-DLBCL'\n",
       "59. 'CMI-MPC'\n",
       "60. 'BEATAML1.0-CRENOLANIB'\n",
       "61. 'CGCI-HTMCP-LC'\n",
       "62. 'TCGA-ACC'\n",
       "63. 'TARGET-NBL'\n",
       "64. 'TARGET-WT'\n",
       "65. 'TCGA-BLCA'\n",
       "66. 'TARGET-OS'\n",
       "67. 'TARGET-RT'\n",
       "68. 'FM-AD'\n",
       "69. 'TCGA-DLBC'\n",
       "70. 'TCGA-CHOL'\n",
       "71. 'TCGA-CESC'\n",
       "72. 'TCGA-COAD'\n",
       "73. 'CPTAC-3'\n",
       "74. 'TCGA-BRCA'\n",
       "75. 'TCGA-ESCA'\n",
       "76. 'TCGA-GBM'\n",
       "77. 'TARGET-CCSK'\n",
       "78. 'CPTAC-2'\n",
       "79. 'MMRF-COMMPASS'\n",
       "80. 'TCGA-OV'\n",
       "81. 'TCGA-THCA'\n",
       "82. 'MATCH-N'\n",
       "83. 'MATCH-B'\n",
       "84. 'MATCH-Y'\n",
       "85. 'TCGA-SKCM'\n",
       "86. 'TCGA-UCEC'\n",
       "\n",
       "\n"
      ],
      "text/plain": [
       " [1] \"TARGET-AML\"                \"MATCH-Z1I\"                \n",
       " [3] \"HCMI-CMDC\"                 \"MATCH-W\"                  \n",
       " [5] \"MATCH-Z1D\"                 \"MATCH-Z1A\"                \n",
       " [7] \"MATCH-U\"                   \"MATCH-Q\"                  \n",
       " [9] \"TCGA-PCPG\"                 \"MATCH-H\"                  \n",
       "[11] \"MATCH-C1\"                  \"TCGA-THYM\"                \n",
       "[13] \"MATCH-I\"                   \"MATCH-S1\"                 \n",
       "[15] \"MATCH-P\"                   \"MATCH-R\"                  \n",
       "[17] \"MATCH-Z1B\"                 \"TCGA-PAAD\"                \n",
       "[19] \"TCGA-STAD\"                 \"TCGA-TGCT\"                \n",
       "[21] \"MATCH-S2\"                  \"TCGA-SARC\"                \n",
       "[23] \"TCGA-PRAD\"                 \"TCGA-READ\"                \n",
       "[25] \"TCGA-UCS\"                  \"TCGA-UVM\"                 \n",
       "[27] \"TRIO-CRU\"                  \"VAREPOP-APOLLO\"           \n",
       "[29] \"WCDT-MCRPC\"                \"TARGET-ALL-P1\"            \n",
       "[31] \"REBC-THYR\"                 \"TARGET-ALL-P2\"            \n",
       "[33] \"TARGET-ALL-P3\"             \"ORGANOID-PANCREATIC\"      \n",
       "[35] \"CTSP-DLBCL1\"               \"EXCEPTIONAL_RESPONDERS-ER\"\n",
       "[37] \"NCICCR-DLBCL\"              \"MP2PRT-ALL\"               \n",
       "[39] \"MP2PRT-WT\"                 \"OHSU-CNL\"                 \n",
       "[41] \"TCGA-KICH\"                 \"TCGA-HNSC\"                \n",
       "[43] \"TCGA-LUAD\"                 \"TCGA-LIHC\"                \n",
       "[45] \"TCGA-LUSC\"                 \"TCGA-MESO\"                \n",
       "[47] \"TCGA-LAML\"                 \"TCGA-LGG\"                 \n",
       "[49] \"TCGA-KIRP\"                 \"TCGA-KIRC\"                \n",
       "[51] \"BEATAML1.0-COHORT\"         \"CGCI-BLGSP\"               \n",
       "[53] \"CGCI-HTMCP-CC\"             \"APOLLO-LUAD\"              \n",
       "[55] \"CMI-ASC\"                   \"CDDP_EAGLE-1\"             \n",
       "[57] \"CMI-MBC\"                   \"CGCI-HTMCP-DLBCL\"         \n",
       "[59] \"CMI-MPC\"                   \"BEATAML1.0-CRENOLANIB\"    \n",
       "[61] \"CGCI-HTMCP-LC\"             \"TCGA-ACC\"                 \n",
       "[63] \"TARGET-NBL\"                \"TARGET-WT\"                \n",
       "[65] \"TCGA-BLCA\"                 \"TARGET-OS\"                \n",
       "[67] \"TARGET-RT\"                 \"FM-AD\"                    \n",
       "[69] \"TCGA-DLBC\"                 \"TCGA-CHOL\"                \n",
       "[71] \"TCGA-CESC\"                 \"TCGA-COAD\"                \n",
       "[73] \"CPTAC-3\"                   \"TCGA-BRCA\"                \n",
       "[75] \"TCGA-ESCA\"                 \"TCGA-GBM\"                 \n",
       "[77] \"TARGET-CCSK\"               \"CPTAC-2\"                  \n",
       "[79] \"MMRF-COMMPASS\"             \"TCGA-OV\"                  \n",
       "[81] \"TCGA-THCA\"                 \"MATCH-N\"                  \n",
       "[83] \"MATCH-B\"                   \"MATCH-Y\"                  \n",
       "[85] \"TCGA-SKCM\"                 \"TCGA-UCEC\"                "
      ]
     },
     "metadata": {},
     "output_type": "display_data"
    }
   ],
   "source": [
    "projects"
   ]
  },
  {
   "cell_type": "code",
   "execution_count": 8,
   "metadata": {
    "vscode": {
     "languageId": "r"
    }
   },
   "outputs": [
    {
     "data": {
      "text/html": [
       "<style>\n",
       ".list-inline {list-style: none; margin:0; padding: 0}\n",
       ".list-inline>li {display: inline-block}\n",
       ".list-inline>li:not(:last-child)::after {content: \"\\00b7\"; padding: 0 .5ex}\n",
       "</style>\n",
       "<ol class=list-inline><li>'TCGA-ACC'</li><li>'TCGA-BLCA'</li><li>'TCGA-BRCA'</li><li>'TCGA-CESC'</li><li>'TCGA-CHOL'</li><li>'TCGA-COAD'</li><li>'TCGA-DLBC'</li><li>'TCGA-ESCA'</li><li>'TCGA-GBM'</li><li>'TCGA-HNSC'</li><li>'TCGA-KICH'</li><li>'TCGA-KIRC'</li><li>'TCGA-KIRP'</li><li>'TCGA-LAML'</li><li>'TCGA-LGG'</li><li>'TCGA-LIHC'</li><li>'TCGA-LUAD'</li><li>'TCGA-LUSC'</li><li>'TCGA-MESO'</li><li>'TCGA-OV'</li><li>'TCGA-PAAD'</li><li>'TCGA-PCPG'</li><li>'TCGA-PRAD'</li><li>'TCGA-READ'</li><li>'TCGA-SARC'</li><li>'TCGA-SKCM'</li><li>'TCGA-STAD'</li><li>'TCGA-TGCT'</li><li>'TCGA-THCA'</li><li>'TCGA-THYM'</li><li>'TCGA-UCEC'</li><li>'TCGA-UCS'</li><li>'TCGA-UVM'</li></ol>\n"
      ],
      "text/latex": [
       "\\begin{enumerate*}\n",
       "\\item 'TCGA-ACC'\n",
       "\\item 'TCGA-BLCA'\n",
       "\\item 'TCGA-BRCA'\n",
       "\\item 'TCGA-CESC'\n",
       "\\item 'TCGA-CHOL'\n",
       "\\item 'TCGA-COAD'\n",
       "\\item 'TCGA-DLBC'\n",
       "\\item 'TCGA-ESCA'\n",
       "\\item 'TCGA-GBM'\n",
       "\\item 'TCGA-HNSC'\n",
       "\\item 'TCGA-KICH'\n",
       "\\item 'TCGA-KIRC'\n",
       "\\item 'TCGA-KIRP'\n",
       "\\item 'TCGA-LAML'\n",
       "\\item 'TCGA-LGG'\n",
       "\\item 'TCGA-LIHC'\n",
       "\\item 'TCGA-LUAD'\n",
       "\\item 'TCGA-LUSC'\n",
       "\\item 'TCGA-MESO'\n",
       "\\item 'TCGA-OV'\n",
       "\\item 'TCGA-PAAD'\n",
       "\\item 'TCGA-PCPG'\n",
       "\\item 'TCGA-PRAD'\n",
       "\\item 'TCGA-READ'\n",
       "\\item 'TCGA-SARC'\n",
       "\\item 'TCGA-SKCM'\n",
       "\\item 'TCGA-STAD'\n",
       "\\item 'TCGA-TGCT'\n",
       "\\item 'TCGA-THCA'\n",
       "\\item 'TCGA-THYM'\n",
       "\\item 'TCGA-UCEC'\n",
       "\\item 'TCGA-UCS'\n",
       "\\item 'TCGA-UVM'\n",
       "\\end{enumerate*}\n"
      ],
      "text/markdown": [
       "1. 'TCGA-ACC'\n",
       "2. 'TCGA-BLCA'\n",
       "3. 'TCGA-BRCA'\n",
       "4. 'TCGA-CESC'\n",
       "5. 'TCGA-CHOL'\n",
       "6. 'TCGA-COAD'\n",
       "7. 'TCGA-DLBC'\n",
       "8. 'TCGA-ESCA'\n",
       "9. 'TCGA-GBM'\n",
       "10. 'TCGA-HNSC'\n",
       "11. 'TCGA-KICH'\n",
       "12. 'TCGA-KIRC'\n",
       "13. 'TCGA-KIRP'\n",
       "14. 'TCGA-LAML'\n",
       "15. 'TCGA-LGG'\n",
       "16. 'TCGA-LIHC'\n",
       "17. 'TCGA-LUAD'\n",
       "18. 'TCGA-LUSC'\n",
       "19. 'TCGA-MESO'\n",
       "20. 'TCGA-OV'\n",
       "21. 'TCGA-PAAD'\n",
       "22. 'TCGA-PCPG'\n",
       "23. 'TCGA-PRAD'\n",
       "24. 'TCGA-READ'\n",
       "25. 'TCGA-SARC'\n",
       "26. 'TCGA-SKCM'\n",
       "27. 'TCGA-STAD'\n",
       "28. 'TCGA-TGCT'\n",
       "29. 'TCGA-THCA'\n",
       "30. 'TCGA-THYM'\n",
       "31. 'TCGA-UCEC'\n",
       "32. 'TCGA-UCS'\n",
       "33. 'TCGA-UVM'\n",
       "\n",
       "\n"
      ],
      "text/plain": [
       " [1] \"TCGA-ACC\"  \"TCGA-BLCA\" \"TCGA-BRCA\" \"TCGA-CESC\" \"TCGA-CHOL\" \"TCGA-COAD\"\n",
       " [7] \"TCGA-DLBC\" \"TCGA-ESCA\" \"TCGA-GBM\"  \"TCGA-HNSC\" \"TCGA-KICH\" \"TCGA-KIRC\"\n",
       "[13] \"TCGA-KIRP\" \"TCGA-LAML\" \"TCGA-LGG\"  \"TCGA-LIHC\" \"TCGA-LUAD\" \"TCGA-LUSC\"\n",
       "[19] \"TCGA-MESO\" \"TCGA-OV\"   \"TCGA-PAAD\" \"TCGA-PCPG\" \"TCGA-PRAD\" \"TCGA-READ\"\n",
       "[25] \"TCGA-SARC\" \"TCGA-SKCM\" \"TCGA-STAD\" \"TCGA-TGCT\" \"TCGA-THCA\" \"TCGA-THYM\"\n",
       "[31] \"TCGA-UCEC\" \"TCGA-UCS\"  \"TCGA-UVM\" "
      ]
     },
     "metadata": {},
     "output_type": "display_data"
    }
   ],
   "source": [
    "TCGAs = grep(\"TCGA\", projects, value = T)\n",
    "sort(TCGAs)"
   ]
  },
  {
   "cell_type": "code",
   "execution_count": 11,
   "metadata": {
    "vscode": {
     "languageId": "r"
    }
   },
   "outputs": [
    {
     "data": {
      "text/html": [
       "<style>\n",
       ".list-inline {list-style: none; margin:0; padding: 0}\n",
       ".list-inline>li {display: inline-block}\n",
       ".list-inline>li:not(:last-child)::after {content: \"\\00b7\"; padding: 0 .5ex}\n",
       "</style>\n",
       "<ol class=list-inline><li>'CPTAC-2'</li><li>'CPTAC-3'</li></ol>\n"
      ],
      "text/latex": [
       "\\begin{enumerate*}\n",
       "\\item 'CPTAC-2'\n",
       "\\item 'CPTAC-3'\n",
       "\\end{enumerate*}\n"
      ],
      "text/markdown": [
       "1. 'CPTAC-2'\n",
       "2. 'CPTAC-3'\n",
       "\n",
       "\n"
      ],
      "text/plain": [
       "[1] \"CPTAC-2\" \"CPTAC-3\""
      ]
     },
     "metadata": {},
     "output_type": "display_data"
    }
   ],
   "source": [
    "CPTAC = grep(\"CPTAC\", projects, value = T)\n",
    "sort(CPTAC)"
   ]
  },
  {
   "cell_type": "code",
   "execution_count": 12,
   "metadata": {
    "vscode": {
     "languageId": "r"
    }
   },
   "outputs": [
    {
     "data": {
      "text/html": [
       "<style>\n",
       ".list-inline {list-style: none; margin:0; padding: 0}\n",
       ".list-inline>li {display: inline-block}\n",
       ".list-inline>li:not(:last-child)::after {content: \"\\00b7\"; padding: 0 .5ex}\n",
       "</style>\n",
       "<ol class=list-inline><li>'TARGET-ALL-P1'</li><li>'TARGET-ALL-P2'</li><li>'TARGET-ALL-P3'</li><li>'TARGET-AML'</li><li>'TARGET-CCSK'</li><li>'TARGET-NBL'</li><li>'TARGET-OS'</li><li>'TARGET-RT'</li><li>'TARGET-WT'</li></ol>\n"
      ],
      "text/latex": [
       "\\begin{enumerate*}\n",
       "\\item 'TARGET-ALL-P1'\n",
       "\\item 'TARGET-ALL-P2'\n",
       "\\item 'TARGET-ALL-P3'\n",
       "\\item 'TARGET-AML'\n",
       "\\item 'TARGET-CCSK'\n",
       "\\item 'TARGET-NBL'\n",
       "\\item 'TARGET-OS'\n",
       "\\item 'TARGET-RT'\n",
       "\\item 'TARGET-WT'\n",
       "\\end{enumerate*}\n"
      ],
      "text/markdown": [
       "1. 'TARGET-ALL-P1'\n",
       "2. 'TARGET-ALL-P2'\n",
       "3. 'TARGET-ALL-P3'\n",
       "4. 'TARGET-AML'\n",
       "5. 'TARGET-CCSK'\n",
       "6. 'TARGET-NBL'\n",
       "7. 'TARGET-OS'\n",
       "8. 'TARGET-RT'\n",
       "9. 'TARGET-WT'\n",
       "\n",
       "\n"
      ],
      "text/plain": [
       "[1] \"TARGET-ALL-P1\" \"TARGET-ALL-P2\" \"TARGET-ALL-P3\" \"TARGET-AML\"   \n",
       "[5] \"TARGET-CCSK\"   \"TARGET-NBL\"    \"TARGET-OS\"     \"TARGET-RT\"    \n",
       "[9] \"TARGET-WT\"    "
      ]
     },
     "metadata": {},
     "output_type": "display_data"
    }
   ],
   "source": [
    "TARGET = grep(\"TARGET\", projects, value = T)\n",
    "sort(TARGET)"
   ]
  },
  {
   "cell_type": "markdown",
   "metadata": {},
   "source": [
    "### **a. 检索**"
   ]
  },
  {
   "cell_type": "code",
   "execution_count": 10,
   "metadata": {
    "vscode": {
     "languageId": "r"
    }
   },
   "outputs": [
    {
     "data": {
      "text/html": [
       "<dl>\n",
       "\t<dt>$file_count</dt>\n",
       "\t\t<dd>4114</dd>\n",
       "\t<dt>$data_categories</dt>\n",
       "\t\t<dd><table class=\"dataframe\">\n",
       "<caption>A data.frame: 9 x 3</caption>\n",
       "<thead>\n",
       "\t<tr><th></th><th scope=col>file_count</th><th scope=col>case_count</th><th scope=col>data_category</th></tr>\n",
       "\t<tr><th></th><th scope=col>&lt;int&gt;</th><th scope=col>&lt;int&gt;</th><th scope=col>&lt;chr&gt;</th></tr>\n",
       "</thead>\n",
       "<tbody>\n",
       "\t<tr><th scope=row>1</th><td>2331</td><td>142</td><td>Simple Nucleotide Variation  </td></tr>\n",
       "\t<tr><th scope=row>2</th><td> 791</td><td>263</td><td>Sequencing Reads             </td></tr>\n",
       "\t<tr><th scope=row>3</th><td>  43</td><td> 31</td><td>Combined Nucleotide Variation</td></tr>\n",
       "\t<tr><th scope=row>4</th><td>   2</td><td>383</td><td>Biospecimen                  </td></tr>\n",
       "\t<tr><th scope=row>5</th><td>   4</td><td>293</td><td>Clinical                     </td></tr>\n",
       "\t<tr><th scope=row>6</th><td> 333</td><td> 88</td><td>Copy Number Variation        </td></tr>\n",
       "\t<tr><th scope=row>7</th><td> 176</td><td> 88</td><td>Transcriptome Profiling      </td></tr>\n",
       "\t<tr><th scope=row>8</th><td> 258</td><td> 86</td><td>DNA Methylation              </td></tr>\n",
       "\t<tr><th scope=row>9</th><td> 176</td><td> 88</td><td>Structural Variation         </td></tr>\n",
       "</tbody>\n",
       "</table>\n",
       "</dd>\n",
       "\t<dt>$case_count</dt>\n",
       "\t\t<dd>383</dd>\n",
       "\t<dt>$file_size</dt>\n",
       "\t\t<dd>23719628544197</dd>\n",
       "</dl>\n"
      ],
      "text/latex": [
       "\\begin{description}\n",
       "\\item[\\$file\\_count] 4114\n",
       "\\item[\\$data\\_categories] A data.frame: 9 x 3\n",
       "\\begin{tabular}{r|lll}\n",
       "  & file\\_count & case\\_count & data\\_category\\\\\n",
       "  & <int> & <int> & <chr>\\\\\n",
       "\\hline\n",
       "\t1 & 2331 & 142 & Simple Nucleotide Variation  \\\\\n",
       "\t2 &  791 & 263 & Sequencing Reads             \\\\\n",
       "\t3 &   43 &  31 & Combined Nucleotide Variation\\\\\n",
       "\t4 &    2 & 383 & Biospecimen                  \\\\\n",
       "\t5 &    4 & 293 & Clinical                     \\\\\n",
       "\t6 &  333 &  88 & Copy Number Variation        \\\\\n",
       "\t7 &  176 &  88 & Transcriptome Profiling      \\\\\n",
       "\t8 &  258 &  86 & DNA Methylation              \\\\\n",
       "\t9 &  176 &  88 & Structural Variation         \\\\\n",
       "\\end{tabular}\n",
       "\n",
       "\\item[\\$case\\_count] 383\n",
       "\\item[\\$file\\_size] 23719628544197\n",
       "\\end{description}\n"
      ],
      "text/markdown": [
       "$file_count\n",
       ":   4114\n",
       "$data_categories\n",
       ":   \n",
       "A data.frame: 9 x 3\n",
       "\n",
       "| <!--/--> | file_count &lt;int&gt; | case_count &lt;int&gt; | data_category &lt;chr&gt; |\n",
       "|---|---|---|---|\n",
       "| 1 | 2331 | 142 | Simple Nucleotide Variation   |\n",
       "| 2 |  791 | 263 | Sequencing Reads              |\n",
       "| 3 |   43 |  31 | Combined Nucleotide Variation |\n",
       "| 4 |    2 | 383 | Biospecimen                   |\n",
       "| 5 |    4 | 293 | Clinical                      |\n",
       "| 6 |  333 |  88 | Copy Number Variation         |\n",
       "| 7 |  176 |  88 | Transcriptome Profiling       |\n",
       "| 8 |  258 |  86 | DNA Methylation               |\n",
       "| 9 |  176 |  88 | Structural Variation          |\n",
       "\n",
       "\n",
       "$case_count\n",
       ":   383\n",
       "$file_size\n",
       ":   23719628544197\n",
       "\n",
       "\n"
      ],
      "text/plain": [
       "$file_count\n",
       "[1] 4114\n",
       "\n",
       "$data_categories\n",
       "  file_count case_count                 data_category\n",
       "1       2331        142   Simple Nucleotide Variation\n",
       "2        791        263              Sequencing Reads\n",
       "3         43         31 Combined Nucleotide Variation\n",
       "4          2        383                   Biospecimen\n",
       "5          4        293                      Clinical\n",
       "6        333         88         Copy Number Variation\n",
       "7        176         88       Transcriptome Profiling\n",
       "8        258         86               DNA Methylation\n",
       "9        176         88          Structural Variation\n",
       "\n",
       "$case_count\n",
       "[1] 383\n",
       "\n",
       "$file_size\n",
       "[1] 2.371963e+13\n"
      ]
     },
     "metadata": {},
     "output_type": "display_data"
    }
   ],
   "source": [
    "project <-  \"TARGET-OS\"\n",
    "# 每个项目的摘要\n",
    "proj <- getProjectSummary(project)\n",
    "proj"
   ]
  },
  {
   "cell_type": "code",
   "execution_count": 7,
   "metadata": {
    "vscode": {
     "languageId": "r"
    }
   },
   "outputs": [
    {
     "data": {
      "text/html": [
       "<style>\n",
       ".list-inline {list-style: none; margin:0; padding: 0}\n",
       ".list-inline>li {display: inline-block}\n",
       ".list-inline>li:not(:last-child)::after {content: \"\\00b7\"; padding: 0 .5ex}\n",
       "</style>\n",
       "<ol class=list-inline><li>'Simple Nucleotide Variation'</li><li>'Sequencing Reads'</li><li>'Combined Nucleotide Variation'</li><li>'Biospecimen'</li><li>'Clinical'</li><li>'Copy Number Variation'</li><li>'Transcriptome Profiling'</li><li>'DNA Methylation'</li><li>'Structural Variation'</li></ol>\n"
      ],
      "text/latex": [
       "\\begin{enumerate*}\n",
       "\\item 'Simple Nucleotide Variation'\n",
       "\\item 'Sequencing Reads'\n",
       "\\item 'Combined Nucleotide Variation'\n",
       "\\item 'Biospecimen'\n",
       "\\item 'Clinical'\n",
       "\\item 'Copy Number Variation'\n",
       "\\item 'Transcriptome Profiling'\n",
       "\\item 'DNA Methylation'\n",
       "\\item 'Structural Variation'\n",
       "\\end{enumerate*}\n"
      ],
      "text/markdown": [
       "1. 'Simple Nucleotide Variation'\n",
       "2. 'Sequencing Reads'\n",
       "3. 'Combined Nucleotide Variation'\n",
       "4. 'Biospecimen'\n",
       "5. 'Clinical'\n",
       "6. 'Copy Number Variation'\n",
       "7. 'Transcriptome Profiling'\n",
       "8. 'DNA Methylation'\n",
       "9. 'Structural Variation'\n",
       "\n",
       "\n"
      ],
      "text/plain": [
       "[1] \"Simple Nucleotide Variation\"   \"Sequencing Reads\"             \n",
       "[3] \"Combined Nucleotide Variation\" \"Biospecimen\"                  \n",
       "[5] \"Clinical\"                      \"Copy Number Variation\"        \n",
       "[7] \"Transcriptome Profiling\"       \"DNA Methylation\"              \n",
       "[9] \"Structural Variation\"         "
      ]
     },
     "metadata": {},
     "output_type": "display_data"
    }
   ],
   "source": [
    "##(1) GDC harmonized database【GRCh38 (hg38)】\n",
    "TCGAbiolinks:::getProjectSummary(project)$data_categories$data_category"
   ]
  },
  {
   "cell_type": "code",
   "execution_count": 11,
   "metadata": {
    "vscode": {
     "languageId": "r"
    }
   },
   "outputs": [],
   "source": [
    "##转录组数据的Data.category是Transcriptome Profiling，Data.type是Gene Expression Quantification，WorkflowType有四种：STAR - Counts、HTSeq - FPKM-UQ、HTSeq - FPKM和HTSeq - Counts。\n",
    "Category <- \"Transcriptome Profiling\"\n",
    "Type <- \"Gene Expression Quantification\"\n",
    "Workflow <- \"STAR - Counts\""
   ]
  },
  {
   "cell_type": "code",
   "execution_count": 12,
   "metadata": {
    "vscode": {
     "languageId": "r"
    }
   },
   "outputs": [
    {
     "name": "stderr",
     "output_type": "stream",
     "text": [
      "--------------------------------------\n",
      "\n",
      "o GDCquery: Searching in GDC database\n",
      "\n",
      "--------------------------------------\n",
      "\n",
      "Genome of reference: hg38\n",
      "\n",
      "--------------------------------------------\n",
      "\n",
      "oo Accessing GDC. This might take a while...\n",
      "\n",
      "--------------------------------------------\n",
      "\n",
      "ooo Project: TARGET-OS\n",
      "\n",
      "--------------------\n",
      "\n",
      "oo Filtering results\n",
      "\n",
      "--------------------\n",
      "\n",
      "ooo By data.type\n",
      "\n",
      "ooo By workflow.type\n",
      "\n",
      "----------------\n",
      "\n",
      "oo Checking data\n",
      "\n",
      "----------------\n",
      "\n",
      "ooo Checking if there are duplicated cases\n",
      "\n",
      "ooo Checking if there are results for the query\n",
      "\n",
      "-------------------\n",
      "\n",
      "o Preparing output\n",
      "\n",
      "-------------------\n",
      "\n"
     ]
    }
   ],
   "source": [
    "# 1 - 检索需要下载的数据。GDCquery()可以通过多个参数检索限定需要下载的数据，各参数的详细说明可参阅帮助文档。\n",
    "query <- GDCquery(\n",
    "    project = project,\n",
    "    data.category = Category,\n",
    "    data.type = Type,\n",
    "    workflow.type = Workflow\n",
    "    )"
   ]
  },
  {
   "cell_type": "markdown",
   "metadata": {},
   "source": [
    "### **b. 下载**"
   ]
  },
  {
   "cell_type": "code",
   "execution_count": 13,
   "metadata": {
    "vscode": {
     "languageId": "r"
    }
   },
   "outputs": [
    {
     "name": "stderr",
     "output_type": "stream",
     "text": [
      "Downloading data for project TARGET-OS\n",
      "\n",
      "GDCdownload will download 88 files. A total of 372.363264 MB\n",
      "\n",
      "Downloading chunk 1 of 2 (50 files, size = 211.616588 MB) as Thu_Jun_13_10_24_36_2024_0.tar.gz\n",
      "\n"
     ]
    },
    {
     "name": "stdout",
     "output_type": "stream",
     "text": [
      "Downloading: 54 MB        "
     ]
    },
    {
     "name": "stderr",
     "output_type": "stream",
     "text": [
      "Downloading chunk 2 of 2 (38 files, size = 160.746676 MB) as Thu_Jun_13_10_24_36_2024_1.tar.gz\n",
      "\n"
     ]
    },
    {
     "name": "stdout",
     "output_type": "stream",
     "text": [
      "Downloading: 41 MB      "
     ]
    }
   ],
   "source": [
    "# 2 - 下载检索的数据。如不设置特定的存储文件夹，TCGAbiolins下载的数据会在工作目录下新建一个名为GDCdata的文件夹用来存储下载的数据文件\n",
    "GDCdownload(\n",
    "    query = query,\n",
    "    method = \"api\",\n",
    "    files.per.chunk = 50\n",
    "    )"
   ]
  },
  {
   "cell_type": "markdown",
   "metadata": {},
   "source": [
    "### **c. 读取**"
   ]
  },
  {
   "cell_type": "code",
   "execution_count": 14,
   "metadata": {
    "vscode": {
     "languageId": "r"
    }
   },
   "outputs": [
    {
     "name": "stdout",
     "output_type": "stream",
     "text": [
      "|====================================================|100%                      Completed after 2 s \n"
     ]
    },
    {
     "name": "stderr",
     "output_type": "stream",
     "text": [
      "Starting to add information to samples\n",
      "\n",
      "Adding description to TARGET samples\n",
      "\n",
      " => Add clinical information to samples\n",
      "\n",
      "Available assays in SummarizedExperiment : \n",
      "  => unstranded\n",
      "  => stranded_first\n",
      "  => stranded_second\n",
      "  => tpm_unstrand\n",
      "  => fpkm_unstrand\n",
      "  => fpkm_uq_unstrand\n",
      "\n",
      "=> Saving file: ./0-Data/TARGET-OS_mrna.rda\n",
      "\n",
      "=> File saved\n",
      "\n"
     ]
    }
   ],
   "source": [
    "# 3 - 读取数据\n",
    "# 读取下载的数据，data数据是以SummarizedExperiment class格式组织的，此类数据对象的详细介绍请参阅\n",
    "dat <- GDCprepare(\n",
    "    query = query,\n",
    "    save = TRUE,\n",
    "    save.filename = paste0(\"./0-Data/\",project,\"_mrna.rda\"),\n",
    "    remove.files.prepared = FALSE) "
   ]
  },
  {
   "cell_type": "markdown",
   "metadata": {},
   "source": [
    "## **批量下载**"
   ]
  },
  {
   "cell_type": "code",
   "execution_count": 8,
   "metadata": {
    "vscode": {
     "languageId": "r"
    }
   },
   "outputs": [
    {
     "data": {
      "text/html": [
       "<style>\n",
       ".list-inline {list-style: none; margin:0; padding: 0}\n",
       ".list-inline>li {display: inline-block}\n",
       ".list-inline>li:not(:last-child)::after {content: \"\\00b7\"; padding: 0 .5ex}\n",
       "</style>\n",
       "<ol class=list-inline><li>'TCGA-ACC'</li><li>'TCGA-BLCA'</li><li>'TCGA-BRCA'</li><li>'TCGA-CESC'</li><li>'TCGA-CHOL'</li><li>'TCGA-COAD'</li><li>'TCGA-DLBC'</li><li>'TCGA-ESCA'</li><li>'TCGA-GBM'</li><li>'TCGA-HNSC'</li><li>'TCGA-KICH'</li><li>'TCGA-KIRC'</li><li>'TCGA-KIRP'</li><li>'TCGA-LAML'</li><li>'TCGA-LGG'</li><li>'TCGA-LIHC'</li><li>'TCGA-LUAD'</li><li>'TCGA-LUSC'</li><li>'TCGA-MESO'</li><li>'TCGA-OV'</li><li>'TCGA-PAAD'</li><li>'TCGA-PCPG'</li><li>'TCGA-PRAD'</li><li>'TCGA-READ'</li><li>'TCGA-SARC'</li><li>'TCGA-SKCM'</li><li>'TCGA-STAD'</li><li>'TCGA-TGCT'</li><li>'TCGA-THCA'</li><li>'TCGA-THYM'</li><li>'TCGA-UCEC'</li><li>'TCGA-UCS'</li><li>'TCGA-UVM'</li></ol>\n"
      ],
      "text/latex": [
       "\\begin{enumerate*}\n",
       "\\item 'TCGA-ACC'\n",
       "\\item 'TCGA-BLCA'\n",
       "\\item 'TCGA-BRCA'\n",
       "\\item 'TCGA-CESC'\n",
       "\\item 'TCGA-CHOL'\n",
       "\\item 'TCGA-COAD'\n",
       "\\item 'TCGA-DLBC'\n",
       "\\item 'TCGA-ESCA'\n",
       "\\item 'TCGA-GBM'\n",
       "\\item 'TCGA-HNSC'\n",
       "\\item 'TCGA-KICH'\n",
       "\\item 'TCGA-KIRC'\n",
       "\\item 'TCGA-KIRP'\n",
       "\\item 'TCGA-LAML'\n",
       "\\item 'TCGA-LGG'\n",
       "\\item 'TCGA-LIHC'\n",
       "\\item 'TCGA-LUAD'\n",
       "\\item 'TCGA-LUSC'\n",
       "\\item 'TCGA-MESO'\n",
       "\\item 'TCGA-OV'\n",
       "\\item 'TCGA-PAAD'\n",
       "\\item 'TCGA-PCPG'\n",
       "\\item 'TCGA-PRAD'\n",
       "\\item 'TCGA-READ'\n",
       "\\item 'TCGA-SARC'\n",
       "\\item 'TCGA-SKCM'\n",
       "\\item 'TCGA-STAD'\n",
       "\\item 'TCGA-TGCT'\n",
       "\\item 'TCGA-THCA'\n",
       "\\item 'TCGA-THYM'\n",
       "\\item 'TCGA-UCEC'\n",
       "\\item 'TCGA-UCS'\n",
       "\\item 'TCGA-UVM'\n",
       "\\end{enumerate*}\n"
      ],
      "text/markdown": [
       "1. 'TCGA-ACC'\n",
       "2. 'TCGA-BLCA'\n",
       "3. 'TCGA-BRCA'\n",
       "4. 'TCGA-CESC'\n",
       "5. 'TCGA-CHOL'\n",
       "6. 'TCGA-COAD'\n",
       "7. 'TCGA-DLBC'\n",
       "8. 'TCGA-ESCA'\n",
       "9. 'TCGA-GBM'\n",
       "10. 'TCGA-HNSC'\n",
       "11. 'TCGA-KICH'\n",
       "12. 'TCGA-KIRC'\n",
       "13. 'TCGA-KIRP'\n",
       "14. 'TCGA-LAML'\n",
       "15. 'TCGA-LGG'\n",
       "16. 'TCGA-LIHC'\n",
       "17. 'TCGA-LUAD'\n",
       "18. 'TCGA-LUSC'\n",
       "19. 'TCGA-MESO'\n",
       "20. 'TCGA-OV'\n",
       "21. 'TCGA-PAAD'\n",
       "22. 'TCGA-PCPG'\n",
       "23. 'TCGA-PRAD'\n",
       "24. 'TCGA-READ'\n",
       "25. 'TCGA-SARC'\n",
       "26. 'TCGA-SKCM'\n",
       "27. 'TCGA-STAD'\n",
       "28. 'TCGA-TGCT'\n",
       "29. 'TCGA-THCA'\n",
       "30. 'TCGA-THYM'\n",
       "31. 'TCGA-UCEC'\n",
       "32. 'TCGA-UCS'\n",
       "33. 'TCGA-UVM'\n",
       "\n",
       "\n"
      ],
      "text/plain": [
       " [1] \"TCGA-ACC\"  \"TCGA-BLCA\" \"TCGA-BRCA\" \"TCGA-CESC\" \"TCGA-CHOL\" \"TCGA-COAD\"\n",
       " [7] \"TCGA-DLBC\" \"TCGA-ESCA\" \"TCGA-GBM\"  \"TCGA-HNSC\" \"TCGA-KICH\" \"TCGA-KIRC\"\n",
       "[13] \"TCGA-KIRP\" \"TCGA-LAML\" \"TCGA-LGG\"  \"TCGA-LIHC\" \"TCGA-LUAD\" \"TCGA-LUSC\"\n",
       "[19] \"TCGA-MESO\" \"TCGA-OV\"   \"TCGA-PAAD\" \"TCGA-PCPG\" \"TCGA-PRAD\" \"TCGA-READ\"\n",
       "[25] \"TCGA-SARC\" \"TCGA-SKCM\" \"TCGA-STAD\" \"TCGA-TGCT\" \"TCGA-THCA\" \"TCGA-THYM\"\n",
       "[31] \"TCGA-UCEC\" \"TCGA-UCS\"  \"TCGA-UVM\" "
      ]
     },
     "metadata": {},
     "output_type": "display_data"
    }
   ],
   "source": [
    "projects = TCGAbiolinks:::getGDCprojects()$project_id\n",
    "TCGAs = grep(\"TCGA\", projects, value = T)\n",
    "sort(TCGAs)"
   ]
  },
  {
   "cell_type": "code",
   "execution_count": null,
   "metadata": {
    "vscode": {
     "languageId": "r"
    }
   },
   "outputs": [],
   "source": [
    "## 批量下载RNA-seq数据\n",
    "for (project in TCGAs) {\n",
    "    # 1 - 检索需要下载的数据。\n",
    "    query <- GDCquery(\n",
    "        project = project,\n",
    "        data.category = \"Transcriptome Profiling\",\n",
    "        data.type = \"Gene Expression Quantification\",\n",
    "        workflow.type = \"STAR - Counts\"\n",
    "        )\n",
    "    # 2 - 下载检索的数据。\n",
    "    GDCdownload(query = query, method = \"api\", files.per.chunk = 50)\n",
    "    # 3 - 读取数据\n",
    "    dat <- GDCprepare(\n",
    "        query = query,\n",
    "        save = TRUE,\n",
    "        save.filename = paste0(\"./0-Data/\",project,\"_mrna.rda\"),\n",
    "        remove.files.prepared = FALSE\n",
    "        ) \n",
    "}"
   ]
  },
  {
   "cell_type": "code",
   "execution_count": null,
   "metadata": {
    "vscode": {
     "languageId": "r"
    }
   },
   "outputs": [],
   "source": [
    "## 批量下载clinical数据\n",
    "for (project in TCGAs) {\n",
    "    # 1 - 检索需要下载的数据。\n",
    "    query <- GDCquery(\n",
    "        project = project,\n",
    "        data.category = \"Clinical\",\n",
    "        data.type = \"Clinical Supplement\",\n",
    "        data.format = \"BCR Biotab\"\n",
    "        )\n",
    "    # 2 - 下载检索的数据。\n",
    "    GDCdownload(query = query, method = \"api\", files.per.chunk = 50)\n",
    "    # 3 - 读取数据\n",
    "    dat <- GDCprepare(\n",
    "        query = query, \n",
    "        save = TRUE, \n",
    "        save.filename = paste0(\"./0-Data/\",project,\"_clinical.rda\"), \n",
    "        remove.files.prepared = FALSE\n",
    "        ) \n",
    "}"
   ]
  },
  {
   "cell_type": "code",
   "execution_count": 44,
   "metadata": {
    "vscode": {
     "languageId": "r"
    }
   },
   "outputs": [
    {
     "data": {
      "text/html": [
       "<style>\n",
       ".list-inline {list-style: none; margin:0; padding: 0}\n",
       ".list-inline>li {display: inline-block}\n",
       ".list-inline>li:not(:last-child)::after {content: \"\\00b7\"; padding: 0 .5ex}\n",
       "</style>\n",
       "<ol class=list-inline><li>'clinical_follow_up_v4.0_sarc'</li><li>'clinical_omf_v4.0_sarc'</li><li>'clinical_nte_sarc'</li><li>'clinical_patient_sarc'</li><li>'clinical_follow_up_v4.0_nte_sarc'</li><li>'clinical_drug_sarc'</li><li>'clinical_radiation_sarc'</li></ol>\n"
      ],
      "text/latex": [
       "\\begin{enumerate*}\n",
       "\\item 'clinical\\_follow\\_up\\_v4.0\\_sarc'\n",
       "\\item 'clinical\\_omf\\_v4.0\\_sarc'\n",
       "\\item 'clinical\\_nte\\_sarc'\n",
       "\\item 'clinical\\_patient\\_sarc'\n",
       "\\item 'clinical\\_follow\\_up\\_v4.0\\_nte\\_sarc'\n",
       "\\item 'clinical\\_drug\\_sarc'\n",
       "\\item 'clinical\\_radiation\\_sarc'\n",
       "\\end{enumerate*}\n"
      ],
      "text/markdown": [
       "1. 'clinical_follow_up_v4.0_sarc'\n",
       "2. 'clinical_omf_v4.0_sarc'\n",
       "3. 'clinical_nte_sarc'\n",
       "4. 'clinical_patient_sarc'\n",
       "5. 'clinical_follow_up_v4.0_nte_sarc'\n",
       "6. 'clinical_drug_sarc'\n",
       "7. 'clinical_radiation_sarc'\n",
       "\n",
       "\n"
      ],
      "text/plain": [
       "[1] \"clinical_follow_up_v4.0_sarc\"     \"clinical_omf_v4.0_sarc\"          \n",
       "[3] \"clinical_nte_sarc\"                \"clinical_patient_sarc\"           \n",
       "[5] \"clinical_follow_up_v4.0_nte_sarc\" \"clinical_drug_sarc\"              \n",
       "[7] \"clinical_radiation_sarc\"         "
      ]
     },
     "metadata": {},
     "output_type": "display_data"
    }
   ],
   "source": [
    "grep(\"clinical_\", names(clinical), value = T)\n",
    "clinical_patient = as.data.frame(clinical$clinical_patient_sarc)"
   ]
  },
  {
   "cell_type": "code",
   "execution_count": null,
   "metadata": {
    "vscode": {
     "languageId": "r"
    }
   },
   "outputs": [],
   "source": [
    "## 批量下载体细胞突变数据\n",
    "for (project in TCGAs){\n",
    "  query <- GDCquery(\n",
    "    project = project, \n",
    "    data.category = \"Simple Nucleotide Variation\", \n",
    "    access = \"open\", \n",
    "    data.type = \"Masked Somatic Mutation\", \n",
    "    workflow.type = \"Aliquot Ensemble Somatic Variant Merging and Masking\"\n",
    "  )\n",
    "  GDCdownload(query = query, method = \"api\", files.per.chunk = 50)\n",
    "  #读取所有文件\n",
    "  all_maf <- list.files(path = paste0(\"./GDCdata/\",project,\"/Simple_Nucleotide_Variation/Masked_Somatic_Mutation/\"),\n",
    "                        pattern = \"ensemble_masked.maf.gz\",\n",
    "                        full.names = T,\n",
    "                        recursive = T)                   \n",
    "  maf <- lapply(all_maf, read_tsv, skip = 7)\n",
    "  #合并数据\n",
    "  maf_merge <- do.call(rbind, maf)\n",
    "  save(maf_merge, file = paste0(\"./0-Data/\",project,\"_maf.rda\"))\n",
    "}"
   ]
  },
  {
   "cell_type": "code",
   "execution_count": null,
   "metadata": {
    "vscode": {
     "languageId": "r"
    }
   },
   "outputs": [],
   "source": [
    "## 批量下载甲基化数据\n",
    "for (project in TCGAs) {\n",
    "    # 1 - 检索需要下载的数据。\n",
    "    query <- GDCquery(\n",
    "        project = project,\n",
    "        data.category = \"DNA Methylation\",\n",
    "        data.type = \"Methylation Beta Value\",\n",
    "        platform = \"Illumina Human Methylation 450\"\n",
    "        )\n",
    "    # 2 - 下载检索的数据。\n",
    "    GDCdownload(query = query, method = \"api\", files.per.chunk = 50)\n",
    "    # 3 - 读取数据\n",
    "    dat <- GDCprepare(\n",
    "        query = query, \n",
    "        save = TRUE, \n",
    "        save.filename = paste0(\"./0-Data/\",project,\"_methy.rda\"), \n",
    "        remove.files.prepared = FALSE\n",
    "        ) \n",
    "}"
   ]
  },
  {
   "cell_type": "code",
   "execution_count": null,
   "metadata": {
    "vscode": {
     "languageId": "r"
    }
   },
   "outputs": [],
   "source": [
    "## 批量下载CNV数据\n",
    "for (project in TCGAs) {\n",
    "    # 1 - 检索需要下载的数据。\n",
    "    query <- GDCquery(\n",
    "        project = project,\n",
    "        data.category = \"Copy Number Variation\",\n",
    "        data.type=\"Masked Copy Number Segment\"\n",
    "        )\n",
    "    # 2 - 下载检索的数据。\n",
    "    GDCdownload(query = query, method = \"api\", files.per.chunk = 50)\n",
    "    # 3 - 读取数据\n",
    "    dat <- GDCprepare(\n",
    "        query = query, \n",
    "        save = TRUE, \n",
    "        save.filename = paste0(\"./0-Data/\",project,\"_cnv.rda\"), \n",
    "        remove.files.prepared = FALSE\n",
    "        ) \n",
    "}"
   ]
  },
  {
   "cell_type": "code",
   "execution_count": null,
   "metadata": {
    "vscode": {
     "languageId": "r"
    }
   },
   "outputs": [],
   "source": [
    "## 批量下载miRNA数据\n",
    "for (project in TCGAs) {\n",
    "    # 1 - 检索需要下载的数据。\n",
    "    query <- GDCquery(\n",
    "        project = project,\n",
    "        data.category = \"Transcriptome Profiling\",\n",
    "        data.type = \"miRNA Expression Quantification\",\n",
    "        workflow.type = \"BCGSC miRNA Profiling\"\n",
    "        )\n",
    "    # 2 - 下载检索的数据。\n",
    "    GDCdownload(query = query, method = \"api\", files.per.chunk = 50)\n",
    "    # 3 - 读取数据\n",
    "    dat <- GDCprepare(\n",
    "        query = query, \n",
    "        save = TRUE, \n",
    "        save.filename = paste0(\"./0-Data/\",project,\"_mirna.rda\"), \n",
    "        remove.files.prepared = FALSE\n",
    "        ) \n",
    "}"
   ]
  },
  {
   "cell_type": "code",
   "execution_count": null,
   "metadata": {
    "vscode": {
     "languageId": "r"
    }
   },
   "outputs": [],
   "source": [
    "## 批量下载蛋白质数据\n",
    "for (project in TCGAs) {\n",
    "    # 1 - 检索需要下载的数据。\n",
    "    query <- GDCquery(\n",
    "        project = project,\n",
    "        data.category = \"Proteome Profiling\",\n",
    "        data.type = \"Protein Expression Quantification\"\n",
    "        )\n",
    "    # 2 - 下载检索的数据。\n",
    "    GDCdownload(query = query, method = \"api\", files.per.chunk = 50)\n",
    "    # 3 - 读取数据\n",
    "    dat <- GDCprepare(\n",
    "        query = query, \n",
    "        save = TRUE, \n",
    "        save.filename = paste0(\"./0-Data/\",project,\"_protein.rda\"), \n",
    "        remove.files.prepared = FALSE\n",
    "        ) \n",
    "}"
   ]
  },
  {
   "cell_type": "code",
   "execution_count": 5,
   "metadata": {
    "vscode": {
     "languageId": "r"
    }
   },
   "outputs": [
    {
     "data": {
      "text/html": [
       "<style>\n",
       ".list-inline {list-style: none; margin:0; padding: 0}\n",
       ".list-inline>li {display: inline-block}\n",
       ".list-inline>li:not(:last-child)::after {content: \"\\00b7\"; padding: 0 .5ex}\n",
       "</style>\n",
       "<ol class=list-inline><li>7734</li><li>10</li></ol>\n"
      ],
      "text/latex": [
       "\\begin{enumerate*}\n",
       "\\item 7734\n",
       "\\item 10\n",
       "\\end{enumerate*}\n"
      ],
      "text/markdown": [
       "1. 7734\n",
       "2. 10\n",
       "\n",
       "\n"
      ],
      "text/plain": [
       "[1] 7734   10"
      ]
     },
     "metadata": {},
     "output_type": "display_data"
    }
   ],
   "source": [
    "## 获取病人的肿瘤分型\n",
    "#PanCancerAtlas_subtypes() The columns “Subtype_Selected” was selected as most prominent subtype classification \n",
    "subtypes <- PanCancerAtlas_subtypes()\n",
    "dim(subtypes)"
   ]
  },
  {
   "cell_type": "code",
   "execution_count": 6,
   "metadata": {
    "vscode": {
     "languageId": "r"
    }
   },
   "outputs": [
    {
     "data": {
      "text/plain": [
       "\n",
       " ACC  AML BLCA BRCA COAD ESCA  GBM HNSC KICH KIRC KIRP  LGG LIHC LUAD LUSC OVCA \n",
       "  91  187  129 1218  341  169  606  279   66  442  161  516  196  230  178  489 \n",
       "PCPG PRAD READ SKCM STAD THCA UCEC  UCS \n",
       " 178  333  118  333  383  496  538   57 "
      ]
     },
     "metadata": {},
     "output_type": "display_data"
    }
   ],
   "source": [
    "table(subtypes$cancer.type)"
   ]
  },
  {
   "cell_type": "code",
   "execution_count": 7,
   "metadata": {
    "vscode": {
     "languageId": "r"
    }
   },
   "outputs": [
    {
     "data": {
      "text/html": [
       "<table class=\"dataframe\">\n",
       "<caption>A data.frame: 6 × 10</caption>\n",
       "<thead>\n",
       "\t<tr><th></th><th scope=col>pan.samplesID</th><th scope=col>cancer.type</th><th scope=col>Subtype_mRNA</th><th scope=col>Subtype_DNAmeth</th><th scope=col>Subtype_protein</th><th scope=col>Subtype_miRNA</th><th scope=col>Subtype_CNA</th><th scope=col>Subtype_Integrative</th><th scope=col>Subtype_other</th><th scope=col>Subtype_Selected</th></tr>\n",
       "\t<tr><th></th><th scope=col>&lt;chr&gt;</th><th scope=col>&lt;chr&gt;</th><th scope=col>&lt;chr&gt;</th><th scope=col>&lt;chr&gt;</th><th scope=col>&lt;int&gt;</th><th scope=col>&lt;chr&gt;</th><th scope=col>&lt;chr&gt;</th><th scope=col>&lt;chr&gt;</th><th scope=col>&lt;chr&gt;</th><th scope=col>&lt;chr&gt;</th></tr>\n",
       "</thead>\n",
       "<tbody>\n",
       "\t<tr><th scope=row>1</th><td>TCGA-OR-A5J1</td><td>ACC</td><td>steroid-phenotype-high+proliferation</td><td>CIMP-high        </td><td>NA</td><td>miRNA_1</td><td>Quiet      </td><td>COC3</td><td>C1A</td><td>ACC.CIMP-high        </td></tr>\n",
       "\t<tr><th scope=row>2</th><td>TCGA-OR-A5J2</td><td>ACC</td><td>steroid-phenotype-high+proliferation</td><td>CIMP-low         </td><td> 1</td><td>miRNA_1</td><td>Noisy      </td><td>COC3</td><td>C1A</td><td>ACC.CIMP-low         </td></tr>\n",
       "\t<tr><th scope=row>3</th><td>TCGA-OR-A5J3</td><td>ACC</td><td>steroid-phenotype-high              </td><td>CIMP-intermediate</td><td> 3</td><td>miRNA_6</td><td>Chromosomal</td><td>COC2</td><td>C1A</td><td>ACC.CIMP-intermediate</td></tr>\n",
       "\t<tr><th scope=row>4</th><td>TCGA-OR-A5J4</td><td>ACC</td><td>NA                                  </td><td>CIMP-high        </td><td>NA</td><td>miRNA_6</td><td>Chromosomal</td><td>NA  </td><td>NA </td><td>ACC.CIMP-high        </td></tr>\n",
       "\t<tr><th scope=row>5</th><td>TCGA-OR-A5J5</td><td>ACC</td><td>steroid-phenotype-high              </td><td>CIMP-intermediate</td><td>NA</td><td>miRNA_2</td><td>Chromosomal</td><td>COC2</td><td>C1A</td><td>ACC.CIMP-intermediate</td></tr>\n",
       "\t<tr><th scope=row>6</th><td>TCGA-OR-A5J6</td><td>ACC</td><td>steroid-phenotype-low               </td><td>CIMP-low         </td><td> 2</td><td>miRNA_1</td><td>Noisy      </td><td>COC1</td><td>C1B</td><td>ACC.CIMP-low         </td></tr>\n",
       "</tbody>\n",
       "</table>\n"
      ],
      "text/latex": [
       "A data.frame: 6 × 10\n",
       "\\begin{tabular}{r|llllllllll}\n",
       "  & pan.samplesID & cancer.type & Subtype\\_mRNA & Subtype\\_DNAmeth & Subtype\\_protein & Subtype\\_miRNA & Subtype\\_CNA & Subtype\\_Integrative & Subtype\\_other & Subtype\\_Selected\\\\\n",
       "  & <chr> & <chr> & <chr> & <chr> & <int> & <chr> & <chr> & <chr> & <chr> & <chr>\\\\\n",
       "\\hline\n",
       "\t1 & TCGA-OR-A5J1 & ACC & steroid-phenotype-high+proliferation & CIMP-high         & NA & miRNA\\_1 & Quiet       & COC3 & C1A & ACC.CIMP-high        \\\\\n",
       "\t2 & TCGA-OR-A5J2 & ACC & steroid-phenotype-high+proliferation & CIMP-low          &  1 & miRNA\\_1 & Noisy       & COC3 & C1A & ACC.CIMP-low         \\\\\n",
       "\t3 & TCGA-OR-A5J3 & ACC & steroid-phenotype-high               & CIMP-intermediate &  3 & miRNA\\_6 & Chromosomal & COC2 & C1A & ACC.CIMP-intermediate\\\\\n",
       "\t4 & TCGA-OR-A5J4 & ACC & NA                                   & CIMP-high         & NA & miRNA\\_6 & Chromosomal & NA   & NA  & ACC.CIMP-high        \\\\\n",
       "\t5 & TCGA-OR-A5J5 & ACC & steroid-phenotype-high               & CIMP-intermediate & NA & miRNA\\_2 & Chromosomal & COC2 & C1A & ACC.CIMP-intermediate\\\\\n",
       "\t6 & TCGA-OR-A5J6 & ACC & steroid-phenotype-low                & CIMP-low          &  2 & miRNA\\_1 & Noisy       & COC1 & C1B & ACC.CIMP-low         \\\\\n",
       "\\end{tabular}\n"
      ],
      "text/markdown": [
       "\n",
       "A data.frame: 6 × 10\n",
       "\n",
       "| <!--/--> | pan.samplesID &lt;chr&gt; | cancer.type &lt;chr&gt; | Subtype_mRNA &lt;chr&gt; | Subtype_DNAmeth &lt;chr&gt; | Subtype_protein &lt;int&gt; | Subtype_miRNA &lt;chr&gt; | Subtype_CNA &lt;chr&gt; | Subtype_Integrative &lt;chr&gt; | Subtype_other &lt;chr&gt; | Subtype_Selected &lt;chr&gt; |\n",
       "|---|---|---|---|---|---|---|---|---|---|---|\n",
       "| 1 | TCGA-OR-A5J1 | ACC | steroid-phenotype-high+proliferation | CIMP-high         | NA | miRNA_1 | Quiet       | COC3 | C1A | ACC.CIMP-high         |\n",
       "| 2 | TCGA-OR-A5J2 | ACC | steroid-phenotype-high+proliferation | CIMP-low          |  1 | miRNA_1 | Noisy       | COC3 | C1A | ACC.CIMP-low          |\n",
       "| 3 | TCGA-OR-A5J3 | ACC | steroid-phenotype-high               | CIMP-intermediate |  3 | miRNA_6 | Chromosomal | COC2 | C1A | ACC.CIMP-intermediate |\n",
       "| 4 | TCGA-OR-A5J4 | ACC | NA                                   | CIMP-high         | NA | miRNA_6 | Chromosomal | NA   | NA  | ACC.CIMP-high         |\n",
       "| 5 | TCGA-OR-A5J5 | ACC | steroid-phenotype-high               | CIMP-intermediate | NA | miRNA_2 | Chromosomal | COC2 | C1A | ACC.CIMP-intermediate |\n",
       "| 6 | TCGA-OR-A5J6 | ACC | steroid-phenotype-low                | CIMP-low          |  2 | miRNA_1 | Noisy       | COC1 | C1B | ACC.CIMP-low          |\n",
       "\n"
      ],
      "text/plain": [
       "  pan.samplesID cancer.type Subtype_mRNA                        \n",
       "1 TCGA-OR-A5J1  ACC         steroid-phenotype-high+proliferation\n",
       "2 TCGA-OR-A5J2  ACC         steroid-phenotype-high+proliferation\n",
       "3 TCGA-OR-A5J3  ACC         steroid-phenotype-high              \n",
       "4 TCGA-OR-A5J4  ACC         NA                                  \n",
       "5 TCGA-OR-A5J5  ACC         steroid-phenotype-high              \n",
       "6 TCGA-OR-A5J6  ACC         steroid-phenotype-low               \n",
       "  Subtype_DNAmeth   Subtype_protein Subtype_miRNA Subtype_CNA\n",
       "1 CIMP-high         NA              miRNA_1       Quiet      \n",
       "2 CIMP-low           1              miRNA_1       Noisy      \n",
       "3 CIMP-intermediate  3              miRNA_6       Chromosomal\n",
       "4 CIMP-high         NA              miRNA_6       Chromosomal\n",
       "5 CIMP-intermediate NA              miRNA_2       Chromosomal\n",
       "6 CIMP-low           2              miRNA_1       Noisy      \n",
       "  Subtype_Integrative Subtype_other Subtype_Selected     \n",
       "1 COC3                C1A           ACC.CIMP-high        \n",
       "2 COC3                C1A           ACC.CIMP-low         \n",
       "3 COC2                C1A           ACC.CIMP-intermediate\n",
       "4 NA                  NA            ACC.CIMP-high        \n",
       "5 COC2                C1A           ACC.CIMP-intermediate\n",
       "6 COC1                C1B           ACC.CIMP-low         "
      ]
     },
     "metadata": {},
     "output_type": "display_data"
    }
   ],
   "source": [
    "head(as.data.frame(subtypes))"
   ]
  },
  {
   "cell_type": "code",
   "execution_count": 8,
   "metadata": {
    "vscode": {
     "languageId": "r"
    }
   },
   "outputs": [],
   "source": [
    "save(subtypes,file = \"./0-Data/PanCancer_subtypes.rda\")"
   ]
  },
  {
   "cell_type": "markdown",
   "metadata": {},
   "source": [
    "## **TMB计算**"
   ]
  },
  {
   "cell_type": "code",
   "execution_count": 9,
   "metadata": {
    "vscode": {
     "languageId": "r"
    }
   },
   "outputs": [],
   "source": [
    "rm(list=ls())\n",
    "library(TCGAbiolinks)\n",
    "library(dplyr)\n",
    "library(stringr)\n",
    "projects <- getGDCprojects()$project_id\n",
    "projects <- projects[grepl('^TCGA', projects, perl=TRUE)]\n",
    "projects <- projects[order(projects)]\n",
    "#projects=projects[-19]"
   ]
  },
  {
   "cell_type": "code",
   "execution_count": null,
   "metadata": {
    "vscode": {
     "languageId": "r"
    }
   },
   "outputs": [],
   "source": [
    "pan_TMB=list()\n",
    "for (project in projects){\n",
    "  query <- GDCquery(\n",
    "    project = project, \n",
    "    data.category = \"Simple Nucleotide Variation\", \n",
    "    access = \"open\", \n",
    "    data.type = \"Masked Somatic Mutation\", \n",
    "    workflow.type = \"Aliquot Ensemble Somatic Variant Merging and Masking\"\n",
    "  )\n",
    "  GDCdownload(query)\n",
    "  maf <- GDCprepare(query)\n",
    "  \n",
    "  ## TMB calculation\n",
    "  # Code Reference https://zhuanlan.zhihu.com/p/394609586\n",
    "  get_TMB <- function(file) {\n",
    "    use_cols <- c(\"Hugo_Symbol\", \"Variant_Classification\", \"Tumor_Sample_Barcode\", \n",
    "                    \"HGVSc\", \"t_depth\", \"t_alt_count\")\n",
    "    # 删除这些突变类型\n",
    "    mut_type <- c(\"5'UTR\", \"3'UTR\", \"3'Flank\", \"5'Flank\", \"Intron\", \"IGR\",\n",
    "                    \"Silent\", \"RNA\", \"Splice_Region\")\n",
    "    # 读取文件\n",
    "    df <- select(file, use_cols)\n",
    "    data <- df %>% subset(!Variant_Classification %in% mut_type) %>%\n",
    "    # 计算 VAF\n",
    "      mutate(vaf = t_alt_count / t_depth) %>%\n",
    "      group_by(Tumor_Sample_Barcode) %>%\n",
    "      summarise(mut_num = n(), TMB = mut_num / 30, MaxVAF = max(vaf))\n",
    "    return(data)\n",
    "    }\n",
    "  \n",
    "  pan_TMB[[project]]=get_TMB(maf)\n",
    "}"
   ]
  },
  {
   "cell_type": "code",
   "execution_count": null,
   "metadata": {
    "vscode": {
     "languageId": "r"
    }
   },
   "outputs": [],
   "source": [
    "# For TCGA-MESO\n",
    "query <- GDCquery(\n",
    "  project = \"TCGA-MESO\", \n",
    "  data.category = \"Simple Nucleotide Variation\", \n",
    "  access = \"open\", \n",
    "  legacy = FALSE, \n",
    "  data.type = \"Masked Somatic Mutation\", \n",
    "  workflow.type = \"Aliquot Ensemble Somatic Variant Merging and Masking\"\n",
    ")\n",
    "GDCdownload(query)\n",
    "\n",
    "# Reference:https://github.com/PoisonAlien/maftools/issues/838\n",
    "mafFilePath2 = dir(path = \"GDCdata/TCGA-MESO\",pattern = \"masked.maf.gz$\",full.names = T,recursive=T) \n",
    "TCGA_MESO = lapply(mafFilePath2, data.table::fread, skip = \"Hugo_Symbol\")\n",
    "TCGA_MESO = data.table::rbindlist(l = TCGA_MESO, use.names = TRUE, fill = TRUE)\n",
    "pan_TMB[[\"TCGA-MESO\"]]=get_TMB(TCGA_MESO)"
   ]
  },
  {
   "cell_type": "code",
   "execution_count": 8,
   "metadata": {
    "vscode": {
     "languageId": "r"
    }
   },
   "outputs": [],
   "source": [
    "pan_TMB=do.call(rbind,pan_TMB)\n",
    "pan_TMB$Cancer=str_split(rownames(pan_TMB),'-',simplify = T)[,2]\n",
    "pan_TMB$Cancer=str_split(pan_TMB$Cancer,'[.]',simplify = T)[,1]\n",
    "pan_TMB$Tumor_Sample_Barcode=str_sub(pan_TMB$Tumor_Sample_Barcode,1,16)\n",
    "pan_TMB=pan_TMB[,c(5,1,3)]\n",
    "colnames(pan_TMB)=c(\"Cancer\",\"ID\",\"TMB\")\n",
    "save(pan_TMB,file=\"./0-Data/PanCancer_TMB.Rdata\")"
   ]
  },
  {
   "cell_type": "code",
   "execution_count": 9,
   "metadata": {
    "vscode": {
     "languageId": "r"
    }
   },
   "outputs": [
    {
     "data": {
      "text/html": [
       "<table class=\"dataframe\">\n",
       "<caption>A tibble: 6 x 3</caption>\n",
       "<thead>\n",
       "\t<tr><th scope=col>Cancer</th><th scope=col>ID</th><th scope=col>TMB</th></tr>\n",
       "\t<tr><th scope=col>&lt;chr&gt;</th><th scope=col>&lt;chr&gt;</th><th scope=col>&lt;dbl&gt;</th></tr>\n",
       "</thead>\n",
       "<tbody>\n",
       "\t<tr><td>BRCA</td><td>TCGA-3C-AAAU-01A</td><td> 0.5333333</td></tr>\n",
       "\t<tr><td>BRCA</td><td>TCGA-3C-AALI-01A</td><td>13.6333333</td></tr>\n",
       "\t<tr><td>BRCA</td><td>TCGA-3C-AALJ-01A</td><td> 0.8333333</td></tr>\n",
       "\t<tr><td>BRCA</td><td>TCGA-3C-AALK-01A</td><td> 1.3666667</td></tr>\n",
       "\t<tr><td>BRCA</td><td>TCGA-4H-AAAK-01A</td><td> 0.5333333</td></tr>\n",
       "\t<tr><td>BRCA</td><td>TCGA-5L-AAT0-01A</td><td> 3.9000000</td></tr>\n",
       "</tbody>\n",
       "</table>\n"
      ],
      "text/latex": [
       "A tibble: 6 x 3\n",
       "\\begin{tabular}{lll}\n",
       " Cancer & ID & TMB\\\\\n",
       " <chr> & <chr> & <dbl>\\\\\n",
       "\\hline\n",
       "\t BRCA & TCGA-3C-AAAU-01A &  0.5333333\\\\\n",
       "\t BRCA & TCGA-3C-AALI-01A & 13.6333333\\\\\n",
       "\t BRCA & TCGA-3C-AALJ-01A &  0.8333333\\\\\n",
       "\t BRCA & TCGA-3C-AALK-01A &  1.3666667\\\\\n",
       "\t BRCA & TCGA-4H-AAAK-01A &  0.5333333\\\\\n",
       "\t BRCA & TCGA-5L-AAT0-01A &  3.9000000\\\\\n",
       "\\end{tabular}\n"
      ],
      "text/markdown": [
       "\n",
       "A tibble: 6 x 3\n",
       "\n",
       "| Cancer &lt;chr&gt; | ID &lt;chr&gt; | TMB &lt;dbl&gt; |\n",
       "|---|---|---|\n",
       "| BRCA | TCGA-3C-AAAU-01A |  0.5333333 |\n",
       "| BRCA | TCGA-3C-AALI-01A | 13.6333333 |\n",
       "| BRCA | TCGA-3C-AALJ-01A |  0.8333333 |\n",
       "| BRCA | TCGA-3C-AALK-01A |  1.3666667 |\n",
       "| BRCA | TCGA-4H-AAAK-01A |  0.5333333 |\n",
       "| BRCA | TCGA-5L-AAT0-01A |  3.9000000 |\n",
       "\n"
      ],
      "text/plain": [
       "  Cancer ID               TMB       \n",
       "1 BRCA   TCGA-3C-AAAU-01A  0.5333333\n",
       "2 BRCA   TCGA-3C-AALI-01A 13.6333333\n",
       "3 BRCA   TCGA-3C-AALJ-01A  0.8333333\n",
       "4 BRCA   TCGA-3C-AALK-01A  1.3666667\n",
       "5 BRCA   TCGA-4H-AAAK-01A  0.5333333\n",
       "6 BRCA   TCGA-5L-AAT0-01A  3.9000000"
      ]
     },
     "metadata": {},
     "output_type": "display_data"
    }
   ],
   "source": [
    "head(pan_TMB)"
   ]
  }
 ],
 "metadata": {
  "kernelspec": {
   "display_name": "R",
   "language": "R",
   "name": "ir"
  },
  "language_info": {
   "codemirror_mode": "r",
   "file_extension": ".r",
   "mimetype": "text/x-r-source",
   "name": "R",
   "pygments_lexer": "r",
   "version": "4.3.3"
  },
  "orig_nbformat": 4
 },
 "nbformat": 4,
 "nbformat_minor": 2
}
